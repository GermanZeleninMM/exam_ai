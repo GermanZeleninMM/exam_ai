{
 "cells": [
  {
   "cell_type": "markdown",
   "id": "7132017f",
   "metadata": {},
   "source": [
    "# Контест по BI\n",
    "### Зеленин Герман Евгеньевич\n",
    "#### Подтверждаю, что работа выполнена самостоятельно"
   ]
  },
  {
   "cell_type": "markdown",
   "id": "461dc808",
   "metadata": {},
   "source": [
    "### Задача 2"
   ]
  },
  {
   "cell_type": "markdown",
   "id": "cfd75221",
   "metadata": {},
   "source": [
    "Попробуем сначала применить линейную регрессию к нашим данным"
   ]
  },
  {
   "cell_type": "code",
   "execution_count": 271,
   "id": "bb4d604f",
   "metadata": {},
   "outputs": [],
   "source": [
    "import pandas as pd"
   ]
  },
  {
   "cell_type": "code",
   "execution_count": 272,
   "id": "9e5b0b5e",
   "metadata": {},
   "outputs": [],
   "source": [
    "data = pd.DataFrame([[0.78, 3, 0.4, 9],\n",
    "                    [0.61, 7, 4.5, 20],\n",
    "                    [0.41, 2.8, 4, 10],\n",
    "                    [0.08, 3.4, 3.8, 10],\n",
    "                    [0.03, 1.3, 2.2, 6],\n",
    "                    [0.52, 8.3, 6.2, 100],\n",
    "                    [0.19, 2, 1.8, 1],\n",
    "                    [0.78, 4.5, 2.7, 18],\n",
    "                    [0.05, 2.1, 5, 20],\n",
    "                    [0.31, 8, 6.8, 35],\n",
    "                    [0.65, 4, 4.2, 17],\n",
    "                    [0.03, 1.3, 2.2, 6],\n",
    "                    [0.39, 7.5, 5.5, 30],\n",
    "                    [0.64, 5, 5.2, 21],\n",
    "                    [0.97, 2.3, 1.4, 2],\n",
    "                    [0.59, 7.1, 5.1, 25],\n",
    "                    [0.97, 3.4, 0.2, 5],\n",
    "                    [0.97, 9, 5.7, 70],\n",
    "                    [0.20, 0.4, 7, 13],\n",
    "                    [0.03, 1.3, 2.2, 6],\n",
    "                    [0.48, 6, 1, 16],\n",
    "                    [0.47, 1, 3.3, 1]], \n",
    "columns=['features1', 'features2', 'features3', 'buy'])"
   ]
  },
  {
   "cell_type": "code",
   "execution_count": 273,
   "id": "9d7b4a81",
   "metadata": {},
   "outputs": [
    {
     "data": {
      "text/html": [
       "<div>\n",
       "<style scoped>\n",
       "    .dataframe tbody tr th:only-of-type {\n",
       "        vertical-align: middle;\n",
       "    }\n",
       "\n",
       "    .dataframe tbody tr th {\n",
       "        vertical-align: top;\n",
       "    }\n",
       "\n",
       "    .dataframe thead th {\n",
       "        text-align: right;\n",
       "    }\n",
       "</style>\n",
       "<table border=\"1\" class=\"dataframe\">\n",
       "  <thead>\n",
       "    <tr style=\"text-align: right;\">\n",
       "      <th></th>\n",
       "      <th>features1</th>\n",
       "      <th>features2</th>\n",
       "      <th>features3</th>\n",
       "      <th>buy</th>\n",
       "    </tr>\n",
       "  </thead>\n",
       "  <tbody>\n",
       "    <tr>\n",
       "      <th>0</th>\n",
       "      <td>0.78</td>\n",
       "      <td>3.0</td>\n",
       "      <td>0.4</td>\n",
       "      <td>9</td>\n",
       "    </tr>\n",
       "    <tr>\n",
       "      <th>1</th>\n",
       "      <td>0.61</td>\n",
       "      <td>7.0</td>\n",
       "      <td>4.5</td>\n",
       "      <td>20</td>\n",
       "    </tr>\n",
       "    <tr>\n",
       "      <th>2</th>\n",
       "      <td>0.41</td>\n",
       "      <td>2.8</td>\n",
       "      <td>4.0</td>\n",
       "      <td>10</td>\n",
       "    </tr>\n",
       "    <tr>\n",
       "      <th>3</th>\n",
       "      <td>0.08</td>\n",
       "      <td>3.4</td>\n",
       "      <td>3.8</td>\n",
       "      <td>10</td>\n",
       "    </tr>\n",
       "    <tr>\n",
       "      <th>4</th>\n",
       "      <td>0.03</td>\n",
       "      <td>1.3</td>\n",
       "      <td>2.2</td>\n",
       "      <td>6</td>\n",
       "    </tr>\n",
       "    <tr>\n",
       "      <th>5</th>\n",
       "      <td>0.52</td>\n",
       "      <td>8.3</td>\n",
       "      <td>6.2</td>\n",
       "      <td>100</td>\n",
       "    </tr>\n",
       "    <tr>\n",
       "      <th>6</th>\n",
       "      <td>0.19</td>\n",
       "      <td>2.0</td>\n",
       "      <td>1.8</td>\n",
       "      <td>1</td>\n",
       "    </tr>\n",
       "    <tr>\n",
       "      <th>7</th>\n",
       "      <td>0.78</td>\n",
       "      <td>4.5</td>\n",
       "      <td>2.7</td>\n",
       "      <td>18</td>\n",
       "    </tr>\n",
       "    <tr>\n",
       "      <th>8</th>\n",
       "      <td>0.05</td>\n",
       "      <td>2.1</td>\n",
       "      <td>5.0</td>\n",
       "      <td>20</td>\n",
       "    </tr>\n",
       "    <tr>\n",
       "      <th>9</th>\n",
       "      <td>0.31</td>\n",
       "      <td>8.0</td>\n",
       "      <td>6.8</td>\n",
       "      <td>35</td>\n",
       "    </tr>\n",
       "    <tr>\n",
       "      <th>10</th>\n",
       "      <td>0.65</td>\n",
       "      <td>4.0</td>\n",
       "      <td>4.2</td>\n",
       "      <td>17</td>\n",
       "    </tr>\n",
       "    <tr>\n",
       "      <th>11</th>\n",
       "      <td>0.03</td>\n",
       "      <td>1.3</td>\n",
       "      <td>2.2</td>\n",
       "      <td>6</td>\n",
       "    </tr>\n",
       "    <tr>\n",
       "      <th>12</th>\n",
       "      <td>0.39</td>\n",
       "      <td>7.5</td>\n",
       "      <td>5.5</td>\n",
       "      <td>30</td>\n",
       "    </tr>\n",
       "    <tr>\n",
       "      <th>13</th>\n",
       "      <td>0.64</td>\n",
       "      <td>5.0</td>\n",
       "      <td>5.2</td>\n",
       "      <td>21</td>\n",
       "    </tr>\n",
       "    <tr>\n",
       "      <th>14</th>\n",
       "      <td>0.97</td>\n",
       "      <td>2.3</td>\n",
       "      <td>1.4</td>\n",
       "      <td>2</td>\n",
       "    </tr>\n",
       "    <tr>\n",
       "      <th>15</th>\n",
       "      <td>0.59</td>\n",
       "      <td>7.1</td>\n",
       "      <td>5.1</td>\n",
       "      <td>25</td>\n",
       "    </tr>\n",
       "    <tr>\n",
       "      <th>16</th>\n",
       "      <td>0.97</td>\n",
       "      <td>3.4</td>\n",
       "      <td>0.2</td>\n",
       "      <td>5</td>\n",
       "    </tr>\n",
       "    <tr>\n",
       "      <th>17</th>\n",
       "      <td>0.97</td>\n",
       "      <td>9.0</td>\n",
       "      <td>5.7</td>\n",
       "      <td>70</td>\n",
       "    </tr>\n",
       "    <tr>\n",
       "      <th>18</th>\n",
       "      <td>0.20</td>\n",
       "      <td>0.4</td>\n",
       "      <td>7.0</td>\n",
       "      <td>13</td>\n",
       "    </tr>\n",
       "    <tr>\n",
       "      <th>19</th>\n",
       "      <td>0.03</td>\n",
       "      <td>1.3</td>\n",
       "      <td>2.2</td>\n",
       "      <td>6</td>\n",
       "    </tr>\n",
       "    <tr>\n",
       "      <th>20</th>\n",
       "      <td>0.48</td>\n",
       "      <td>6.0</td>\n",
       "      <td>1.0</td>\n",
       "      <td>16</td>\n",
       "    </tr>\n",
       "    <tr>\n",
       "      <th>21</th>\n",
       "      <td>0.47</td>\n",
       "      <td>1.0</td>\n",
       "      <td>3.3</td>\n",
       "      <td>1</td>\n",
       "    </tr>\n",
       "  </tbody>\n",
       "</table>\n",
       "</div>"
      ],
      "text/plain": [
       "    features1  features2  features3  buy\n",
       "0        0.78        3.0        0.4    9\n",
       "1        0.61        7.0        4.5   20\n",
       "2        0.41        2.8        4.0   10\n",
       "3        0.08        3.4        3.8   10\n",
       "4        0.03        1.3        2.2    6\n",
       "5        0.52        8.3        6.2  100\n",
       "6        0.19        2.0        1.8    1\n",
       "7        0.78        4.5        2.7   18\n",
       "8        0.05        2.1        5.0   20\n",
       "9        0.31        8.0        6.8   35\n",
       "10       0.65        4.0        4.2   17\n",
       "11       0.03        1.3        2.2    6\n",
       "12       0.39        7.5        5.5   30\n",
       "13       0.64        5.0        5.2   21\n",
       "14       0.97        2.3        1.4    2\n",
       "15       0.59        7.1        5.1   25\n",
       "16       0.97        3.4        0.2    5\n",
       "17       0.97        9.0        5.7   70\n",
       "18       0.20        0.4        7.0   13\n",
       "19       0.03        1.3        2.2    6\n",
       "20       0.48        6.0        1.0   16\n",
       "21       0.47        1.0        3.3    1"
      ]
     },
     "execution_count": 273,
     "metadata": {},
     "output_type": "execute_result"
    }
   ],
   "source": [
    "data"
   ]
  },
  {
   "cell_type": "markdown",
   "id": "706e8a83",
   "metadata": {},
   "source": [
    "Построим матрицу визуализации данных"
   ]
  },
  {
   "cell_type": "code",
   "execution_count": 274,
   "id": "0420baa7",
   "metadata": {},
   "outputs": [
    {
     "data": {
      "image/png": "[encoded data removed]",
      "text/plain": [
       "<Figure size 720x720 with 20 Axes>"
      ]
     },
     "metadata": {
      "needs_background": "light"
     },
     "output_type": "display_data"
    }
   ],
   "source": [
    "import seaborn as sns\n",
    "sns.pairplot(data);"
   ]
  },
  {
   "cell_type": "markdown",
   "id": "413d5278",
   "metadata": {},
   "source": [
    "Возможны выбросы для цены 70 и 100. Попробуем проверить это на диаграмме boxplot"
   ]
  },
  {
   "cell_type": "code",
   "execution_count": 275,
   "id": "f104b018",
   "metadata": {},
   "outputs": [
    {
     "data": {
      "image/png": "[encoded data removed]",
      "text/plain": [
       "<Figure size 432x288 with 1 Axes>"
      ]
     },
     "metadata": {
      "needs_background": "light"
     },
     "output_type": "display_data"
    }
   ],
   "source": [
    "ax = sns.boxplot(x=data[\"buy\"])"
   ]
  },
  {
   "cell_type": "markdown",
   "id": "bd105614",
   "metadata": {},
   "source": [
    "Выбросы обнаружились. Попробуем удалить их и применить линейную регрессию на новых данных"
   ]
  },
  {
   "cell_type": "code",
   "execution_count": 276,
   "id": "875a962a",
   "metadata": {},
   "outputs": [],
   "source": [
    "data_new = pd.DataFrame([[0.78, 3, 0.4, 9],\n",
    "                    [0.61, 7, 4.5, 20],\n",
    "                    [0.41, 2.8, 4, 10],\n",
    "                    [0.08, 3.4, 3.8, 10],\n",
    "                    [0.03, 1.3, 2.2, 6],\n",
    "                    [0.19, 2, 1.8, 1],\n",
    "                    [0.78, 4.5, 2.7, 18],\n",
    "                    [0.05, 2.1, 5, 20],\n",
    "                    [0.31, 8, 6.8, 35],\n",
    "                    [0.65, 4, 4.2, 17],\n",
    "                    [0.03, 1.3, 2.2, 6],\n",
    "                    [0.39, 7.5, 5.5, 30],\n",
    "                    [0.64, 5, 5.2, 21],\n",
    "                    [0.97, 2.3, 1.4, 2],\n",
    "                    [0.59, 7.1, 5.1, 25],\n",
    "                    [0.97, 3.4, 0.2, 5],\n",
    "                    [0.20, 0.4, 7, 13],\n",
    "                    [0.03, 1.3, 2.2, 6],\n",
    "                    [0.48, 6, 1, 16],\n",
    "                    [0.47, 1, 3.3, 1]], \n",
    "columns=['features1', 'features2', 'features3', 'buy'])"
   ]
  },
  {
   "cell_type": "code",
   "execution_count": 277,
   "id": "d2394e48",
   "metadata": {},
   "outputs": [],
   "source": [
    "import statsmodels.api as sm"
   ]
  },
  {
   "cell_type": "code",
   "execution_count": 278,
   "id": "ac808a6b",
   "metadata": {},
   "outputs": [],
   "source": [
    "x = data_new[['features1','features2', 'features3']]\n",
    "y = data_new['buy']"
   ]
  },
  {
   "cell_type": "code",
   "execution_count": 279,
   "id": "7ee722d0",
   "metadata": {},
   "outputs": [
    {
     "name": "stderr",
     "output_type": "stream",
     "text": [
      "/Users/germanzelenin/opt/anaconda3/lib/python3.9/site-packages/statsmodels/tsa/tsatools.py:142: FutureWarning: In a future version of pandas all arguments of concat except for the argument 'objs' will be keyword-only\n",
      "  x = pd.concat(x[::order], 1)\n"
     ]
    }
   ],
   "source": [
    "x = sm.add_constant(x)"
   ]
  },
  {
   "cell_type": "code",
   "execution_count": 280,
   "id": "fe5d2cc9",
   "metadata": {},
   "outputs": [],
   "source": [
    "model = sm.OLS(y, x).fit()"
   ]
  },
  {
   "cell_type": "code",
   "execution_count": 281,
   "id": "a32acf91",
   "metadata": {},
   "outputs": [
    {
     "data": {
      "text/plain": [
       "const       -3.235237\n",
       "features1   -2.286328\n",
       "features2    2.859672\n",
       "features3    2.125612\n",
       "dtype: float64"
      ]
     },
     "execution_count": 281,
     "metadata": {},
     "output_type": "execute_result"
    }
   ],
   "source": [
    "model.params"
   ]
  },
  {
   "cell_type": "code",
   "execution_count": 282,
   "id": "9c72a62d",
   "metadata": {},
   "outputs": [
    {
     "data": {
      "text/plain": [
       "0.8897369199959974"
      ]
     },
     "execution_count": 282,
     "metadata": {},
     "output_type": "execute_result"
    }
   ],
   "source": [
    "model.rsquared"
   ]
  },
  {
   "cell_type": "markdown",
   "id": "0ecb7c8b",
   "metadata": {},
   "source": [
    "Результат очень хороший"
   ]
  },
  {
   "cell_type": "code",
   "execution_count": 306,
   "id": "643fb9ec",
   "metadata": {},
   "outputs": [],
   "source": [
    "pred = model.predict([1, 0.03, 1.3, 2.2])"
   ]
  },
  {
   "cell_type": "markdown",
   "id": "c2d371f0",
   "metadata": {},
   "source": [
    "Ответ:"
   ]
  },
  {
   "cell_type": "code",
   "execution_count": 307,
   "id": "b0585533",
   "metadata": {},
   "outputs": [
    {
     "data": {
      "text/plain": [
       "5.090092378842784"
      ]
     },
     "execution_count": 307,
     "metadata": {},
     "output_type": "execute_result"
    }
   ],
   "source": [
    "pred[0]"
   ]
  },
  {
   "cell_type": "markdown",
   "id": "a5faa2d8",
   "metadata": {},
   "source": [
    "Итак, после построения различных графиков, мною не было найдено конкретной зависимости между отдельным признаком и ценой. Были удалены данные, являющиеся выбросами. На основе новых подправленных данных была построенна хорошая регрессия. Кроме того, с увеличением данных результаты можно улучшить"
   ]
  },
  {
   "cell_type": "markdown",
   "id": "97916d5a",
   "metadata": {},
   "source": [
    "### Задача 4"
   ]
  },
  {
   "cell_type": "markdown",
   "id": "abf8d443",
   "metadata": {},
   "source": [
    "Создадим датафрейм с данными экспериментов"
   ]
  },
  {
   "cell_type": "code",
   "execution_count": 293,
   "id": "89be3b0d",
   "metadata": {},
   "outputs": [],
   "source": [
    "import matplotlib\n",
    "\n",
    "data_4 = pd.DataFrame([[1, 20, 5],\n",
    "                     [1, 25, 6],\n",
    "                     [1, 30, 8],\n",
    "                     [2, 20, 8],\n",
    "                     [2, 25, 9],\n",
    "                     [2, 30, 12],\n",
    "                     [3, 20, 10],\n",
    "                     [3, 25, 13],\n",
    "                     [3, 30, 13],\n",
    "                     [4, 20, 18],\n",
    "                     [4, 25, 19],\n",
    "                     [4, 30, 20],\n",
    "                    ], \n",
    "columns=['dose', 'temp', 'kill'])"
   ]
  },
  {
   "cell_type": "code",
   "execution_count": 294,
   "id": "cfe28661",
   "metadata": {},
   "outputs": [
    {
     "data": {
      "text/html": [
       "<div>\n",
       "<style scoped>\n",
       "    .dataframe tbody tr th:only-of-type {\n",
       "        vertical-align: middle;\n",
       "    }\n",
       "\n",
       "    .dataframe tbody tr th {\n",
       "        vertical-align: top;\n",
       "    }\n",
       "\n",
       "    .dataframe thead th {\n",
       "        text-align: right;\n",
       "    }\n",
       "</style>\n",
       "<table border=\"1\" class=\"dataframe\">\n",
       "  <thead>\n",
       "    <tr style=\"text-align: right;\">\n",
       "      <th></th>\n",
       "      <th>dose</th>\n",
       "      <th>temp</th>\n",
       "      <th>kill</th>\n",
       "    </tr>\n",
       "  </thead>\n",
       "  <tbody>\n",
       "    <tr>\n",
       "      <th>0</th>\n",
       "      <td>1</td>\n",
       "      <td>20</td>\n",
       "      <td>5</td>\n",
       "    </tr>\n",
       "    <tr>\n",
       "      <th>1</th>\n",
       "      <td>1</td>\n",
       "      <td>25</td>\n",
       "      <td>6</td>\n",
       "    </tr>\n",
       "    <tr>\n",
       "      <th>2</th>\n",
       "      <td>1</td>\n",
       "      <td>30</td>\n",
       "      <td>8</td>\n",
       "    </tr>\n",
       "    <tr>\n",
       "      <th>3</th>\n",
       "      <td>2</td>\n",
       "      <td>20</td>\n",
       "      <td>8</td>\n",
       "    </tr>\n",
       "    <tr>\n",
       "      <th>4</th>\n",
       "      <td>2</td>\n",
       "      <td>25</td>\n",
       "      <td>9</td>\n",
       "    </tr>\n",
       "    <tr>\n",
       "      <th>5</th>\n",
       "      <td>2</td>\n",
       "      <td>30</td>\n",
       "      <td>12</td>\n",
       "    </tr>\n",
       "    <tr>\n",
       "      <th>6</th>\n",
       "      <td>3</td>\n",
       "      <td>20</td>\n",
       "      <td>10</td>\n",
       "    </tr>\n",
       "    <tr>\n",
       "      <th>7</th>\n",
       "      <td>3</td>\n",
       "      <td>25</td>\n",
       "      <td>13</td>\n",
       "    </tr>\n",
       "    <tr>\n",
       "      <th>8</th>\n",
       "      <td>3</td>\n",
       "      <td>30</td>\n",
       "      <td>13</td>\n",
       "    </tr>\n",
       "    <tr>\n",
       "      <th>9</th>\n",
       "      <td>4</td>\n",
       "      <td>20</td>\n",
       "      <td>18</td>\n",
       "    </tr>\n",
       "    <tr>\n",
       "      <th>10</th>\n",
       "      <td>4</td>\n",
       "      <td>25</td>\n",
       "      <td>19</td>\n",
       "    </tr>\n",
       "    <tr>\n",
       "      <th>11</th>\n",
       "      <td>4</td>\n",
       "      <td>30</td>\n",
       "      <td>20</td>\n",
       "    </tr>\n",
       "  </tbody>\n",
       "</table>\n",
       "</div>"
      ],
      "text/plain": [
       "    dose  temp  kill\n",
       "0      1    20     5\n",
       "1      1    25     6\n",
       "2      1    30     8\n",
       "3      2    20     8\n",
       "4      2    25     9\n",
       "5      2    30    12\n",
       "6      3    20    10\n",
       "7      3    25    13\n",
       "8      3    30    13\n",
       "9      4    20    18\n",
       "10     4    25    19\n",
       "11     4    30    20"
      ]
     },
     "execution_count": 294,
     "metadata": {},
     "output_type": "execute_result"
    }
   ],
   "source": [
    "data_4"
   ]
  },
  {
   "cell_type": "markdown",
   "id": "a5111074",
   "metadata": {},
   "source": [
    "**Первая гипотеза: чем выше дозировка, тем лучше средство**. Усредним значение убитых на разных температурах одной дозировки."
   ]
  },
  {
   "cell_type": "code",
   "execution_count": 295,
   "id": "95195027",
   "metadata": {},
   "outputs": [
    {
     "name": "stdout",
     "output_type": "stream",
     "text": [
      "   dose       mean\n",
      "0   1.0   6.333333\n",
      "1   2.0   9.666667\n",
      "2   3.0  12.000000\n",
      "3   4.0  19.000000\n"
     ]
    }
   ],
   "source": [
    "arr_kills = pd.DataFrame([], columns=['dose', 'mean'])\n",
    "for i in range(1,5):\n",
    "    new_row = {'dose': i, 'mean': data_4[data_4[\"dose\"] == i][\"kill\"].mean(axis=0)}\n",
    "    arr_kills = arr_kills.append(new_row, ignore_index=True)\n",
    "print(arr_kills)"
   ]
  },
  {
   "cell_type": "code",
   "execution_count": 296,
   "id": "7268a544",
   "metadata": {},
   "outputs": [
    {
     "data": {
      "image/png": "[encoded data removed]",
      "text/plain": [
       "<Figure size 432x288 with 1 Axes>"
      ]
     },
     "metadata": {
      "needs_background": "light"
     },
     "output_type": "display_data"
    }
   ],
   "source": [
    "sns.barplot(data=arr_kills, x=\"dose\", y=\"mean\");"
   ]
  },
  {
   "cell_type": "markdown",
   "id": "1c73321d",
   "metadata": {},
   "source": [
    "Мы видим, что в среднем, количество погибших вредителей растет от увеличения дозировки"
   ]
  },
  {
   "cell_type": "markdown",
   "id": "68f1f588",
   "metadata": {},
   "source": [
    "**Вторая гипотеза: чем выше температура при одинаковой дозе, тем лучше средство действует**."
   ]
  },
  {
   "cell_type": "markdown",
   "id": "c026f464",
   "metadata": {},
   "source": [
    "Построим диаграммы для 4 разных доз зависимости числа уничтоженных вредителей от температуры."
   ]
  },
  {
   "cell_type": "code",
   "execution_count": 297,
   "id": "da49b3cc",
   "metadata": {},
   "outputs": [
    {
     "name": "stdout",
     "output_type": "stream",
     "text": [
      "Одна дозировка\n"
     ]
    },
    {
     "data": {
      "image/png": "[encoded data removed]",
      "text/plain": [
       "<Figure size 432x288 with 1 Axes>"
      ]
     },
     "metadata": {
      "needs_background": "light"
     },
     "output_type": "display_data"
    }
   ],
   "source": [
    "print(\"Одна дозировка\")\n",
    "sns.barplot(data=data_4[data_4[\"dose\"] == 1], x=\"temp\", y=\"kill\");"
   ]
  },
  {
   "cell_type": "code",
   "execution_count": 298,
   "id": "62e7d3d8",
   "metadata": {},
   "outputs": [
    {
     "name": "stdout",
     "output_type": "stream",
     "text": [
      "Две дозировки:\n"
     ]
    },
    {
     "data": {
      "image/png": "[encoded data removed]",
      "text/plain": [
       "<Figure size 432x288 with 1 Axes>"
      ]
     },
     "metadata": {
      "needs_background": "light"
     },
     "output_type": "display_data"
    }
   ],
   "source": [
    "print(\"Две дозировки:\")\n",
    "sns.barplot(data=data_4[data_4[\"dose\"] == 2], x=\"temp\", y=\"kill\");"
   ]
  },
  {
   "cell_type": "code",
   "execution_count": 299,
   "id": "e4797fe6",
   "metadata": {},
   "outputs": [
    {
     "name": "stdout",
     "output_type": "stream",
     "text": [
      "Три дозировки:\n"
     ]
    },
    {
     "data": {
      "image/png": "[encoded data removed]",
      "text/plain": [
       "<Figure size 432x288 with 1 Axes>"
      ]
     },
     "metadata": {
      "needs_background": "light"
     },
     "output_type": "display_data"
    }
   ],
   "source": [
    "print(\"Три дозировки:\")\n",
    "sns.barplot(data=data_4[data_4[\"dose\"] == 3], x=\"temp\", y=\"kill\");"
   ]
  },
  {
   "cell_type": "code",
   "execution_count": 300,
   "id": "15765639",
   "metadata": {},
   "outputs": [
    {
     "name": "stdout",
     "output_type": "stream",
     "text": [
      "Четыре дозирвоки:\n"
     ]
    },
    {
     "data": {
      "image/png": "[encoded data removed]",
      "text/plain": [
       "<Figure size 432x288 with 1 Axes>"
      ]
     },
     "metadata": {
      "needs_background": "light"
     },
     "output_type": "display_data"
    }
   ],
   "source": [
    "print(\"Четыре дозирвоки:\")\n",
    "sns.barplot(data=data_4[data_4[\"dose\"] == 4], x=\"temp\", y=\"kill\");"
   ]
  },
  {
   "cell_type": "markdown",
   "id": "3088e471",
   "metadata": {},
   "source": [
    "**Вывод:** При одной, двух, четырех дозировках наблюдается позитивный \"восходящий\" тренд. На трех дозировках наблюдается совпадение количество погибших на 25 градусах и 30. Можно сказать, что это погрешность (таракан оказался слабеньким 😂)"
   ]
  },
  {
   "cell_type": "markdown",
   "id": "91ed8d23",
   "metadata": {},
   "source": [
    "**Третья гипотеза** И температура и дозировка взаимно влияют"
   ]
  },
  {
   "cell_type": "code",
   "execution_count": 301,
   "id": "3f8d5327",
   "metadata": {},
   "outputs": [
    {
     "data": {
      "image/png": "[encoded data removed]",
      "text/plain": [
       "<Figure size 432x288 with 1 Axes>"
      ]
     },
     "metadata": {
      "needs_background": "light"
     },
     "output_type": "display_data"
    }
   ],
   "source": [
    "sns.barplot(\n",
    "    x=\"dose\", \n",
    "    y=\"kill\", \n",
    "    hue=\"temp\",\n",
    "    data=data_4\n",
    ");"
   ]
  },
  {
   "cell_type": "markdown",
   "id": "1ef5e717",
   "metadata": {},
   "source": [
    "**Вывод** Видим, что число погибших насекомых увеличивается одновременно по мере роста дозировки и роста температуры на каждой дозе"
   ]
  },
  {
   "cell_type": "markdown",
   "id": "83218261",
   "metadata": {},
   "source": [
    "Можно ли считать такие выводы хоть сколько нибудь полезными? Скорее нет, чем да. Каждое насекомое - разный организм. Отличия в 1-2 смерти при увеличении температуры или дозировки можно вполне списать на индивидуальные характеристика каждого насекомого. Лучшие выводы можно получить при получении большего количества данных. Если мы проведем, например, несколько экспериментов при 20 градусах с одной, двумя, тремя и четырмя дозировками, то сможем провести анализ четырех выборок. Существуют различные критерии для проверки различаются ли выборки или нет (для нормальных - критерий Барлета, Шеффе, ненормальных - Краскела, Данна и другие)"
   ]
  },
  {
   "cell_type": "markdown",
   "id": "b7bc7f70",
   "metadata": {},
   "source": [
    "### Задача 1 (MySQL)"
   ]
  },
  {
   "cell_type": "markdown",
   "id": "7857176e",
   "metadata": {},
   "source": [
    "1) Найти регион с покупкой более чем двумя типами товаров из таблицы Sales (названия таблицы в задании не было задано, поэтому пришлось название ввести самому); \n",
    "\n",
    "Будем использовать вложенный запрос: SELECT Region, count(DISTINCT ItemName) as Count FROM Sales GROUP BY Region\n",
    "Этот запрос формирует таблицу из названия региона и количества уникальных (!) типов товаров\n",
    "После этого мы выбираем из этой таблички названия регионов, в которых количество уникальных регионов > 2\n",
    "\n",
    "**Ответ:** SELECT Region FROM (SELECT Region, count(DISTINCT ItemName) as Count FROM Sales GROUP BY Region) as Sales2 WHERE Sales2.Count >2\n"
   ]
  },
  {
   "cell_type": "markdown",
   "id": "8667e425",
   "metadata": {},
   "source": [
    "2) Найти среднюю стоимость 2х наиболее часто покупаемых типов товаров \n",
    "\n",
    "За частоту я взял общее количество купленных товаров (SUM(Qty)), за стоимость была взята разность между NetSales (выручка) и Proffit (прибыль), деленная на общее количество. Однако задачу можно интерпретировать по-разному: за стоимость взять NetSales, а за количество - количество \"чеков\". Но запрос кардинально от этого не поменяется. Для решения использовался вложенный запрос.\n",
    "\n",
    "**Ответ:** SELECT ItemName, ItemCount, MeanPrice FROM (SELECT ItemName, (SUM(NetSales) - SUM(Proffit))/SUM(Qty) as MeanPrice, SUM(Qty) as ItemCount FROM Sales GROUP BY ItemName) as A ORDER BY ItemCount DESC LIMIT 2"
   ]
  },
  {
   "cell_type": "markdown",
   "id": "f7264700",
   "metadata": {},
   "source": [
    "3) Рассчитать среднее время (кол-во дней) между покупками в каждом регионе\n",
    "\n",
    "Данная задача решается с помощью оконных функций. Первый вложенный массив представляет из себя табличку строк чеков, но с столбцами Region, ActualDate и LastDate - дата совершения предыдущей покупки в этом регионе. После этого основной запрос считает среднее время между чеками с помощью функции AVG\n",
    "\n",
    "**Ответ:** SELECT Region, AVG(ActionDate - LastDate) as MeanNumber FROM (\n",
    "  SELECT Region, ActionDate, LAG(ActionDate) OVER(PARTITION BY Region ORDER BY ActionDate ASC) as LastDate FROM Sales ORDER BY Region ASC\n",
    ") as A GROUP BY Region"
   ]
  },
  {
   "cell_type": "markdown",
   "id": "24426848",
   "metadata": {},
   "source": [
    "5) Отсортировать по дате покупок и для первых 5 строк посчитать скользящее среднее NetSales c размером окна 3 - т.е. средней из текущей, предыдущей и следующей строчек\n",
    "\n",
    "Используем окно из трех строк и применяем его к таблице из первых 6 строк, отсортированных по ActualDate. Это необходимо, чтобы для 5-ой строчки конкретно посчиталось значение скользящего среднего.\n",
    "\n",
    "**Ответ:** SELECT *, avg(NetSales) over w as roll_avg FROM (SELECT * FROM Sales ORDER BY ActionDate LIMIT 6) as Sales window w as (rows between 1 preceding and 1 following) LIMIT 5"
   ]
  },
  {
   "cell_type": "markdown",
   "id": "d9befcb5",
   "metadata": {},
   "source": [
    "6) За каждый день вывести канал привлечения с максимальным GMV, и собственно сам GMV этого канала\n",
    "\n",
    "Запрос получился большим и скорее всего можно сильно проще. В первом вложенном запросе группируем по ActionDate и Medium, высчитываем GMV. Далее сортируем в каждой дате каналы привлечения по убыванию. После выбираем самую первую строку в каждой группе.\n",
    "\n",
    "**Ответ**: SELECT ActionDate, Medium, GMV FROM (\n",
    "SELECT ActionDate, Medium, GMV, ROW_NUMBER() OVER(PARTITION BY ActionDate) as RowN\n",
    "FROM (SELECT ActionDate, Medium, SUM(NetSales) as GMV FROM Sales GROUP BY ActionDate, Medium ORDER BY ActionDate) as A \n",
    "ORDER BY ActionDate, GMV DESC ) as A WHERE A.RowN = 1"
   ]
  },
  {
   "cell_type": "markdown",
   "id": "d178b25e",
   "metadata": {},
   "source": [
    "7) Найти наименее маржинальный канал привлечения (для которого минимально отношение прибыли к выручке)\n",
    "\n",
    "Находим суммы выручки и чистой прибыли для каждого канала и делим их друг на друга. После сортируем по возрастанию и выводим 1 элемент.\n",
    "\n",
    "**Ответ:** SELECT Medium FROM (SELECT Medium, (SUM(Proffit)/SUM(NetSales)) as MinMedium FROM Sales GROUP BY Medium) as A ORDER BY MinMedium LIMIT 1"
   ]
  },
  {
   "cell_type": "markdown",
   "id": "907414ba",
   "metadata": {},
   "source": [
    "### Задача 3"
   ]
  },
  {
   "cell_type": "markdown",
   "id": "834ca137",
   "metadata": {},
   "source": [
    "Данная задача достаточно интересна, потому что полностью построена на случайности. В условии сказано, что X распределено как Poiss(80), то есть взять камней больше, чем 60 можно с 99,9% вероятности. Это неплохо и дает некоторый разворот для применения статистических знаний игроком. В условии не сказано, какое распределение у цены камня. Но это поправимо. Мы можем разделить задачу на 2 подзадачи. Начнем с перебора первых 30 камней. Будем изучать их цену. Пусть цены окажутся равны x_1, ..., x_30. Исходя из этих данных, как вариант, можно построить гистограмму. Но поскольку цена у нас и дискретное распределение, но все же носитель большой и гистограмма скорее всего будет неинформативна для выявления формы функции распределения. Можно попробовать угадать функцию распределения и проверить на соответствие с помощью теста Колмогорова-Смиронова. Но опять же это достаточно тяжело. Можно воспользоваться построением эмпирической функции распределения. После ее построения хотя бы на каком-то вменяемом количестве камней, можно будет уже оценивать какая вероятность цены была у каждого последующего камушка (при этом не забывать пересчитывать после каждой иттерации эмпирическую функцию распределения). Если нам выпал камень с такой ценой, что цена большая чем выпала достигается хотя бы в 20%, то думаю, что это можно считать успехом. Кроме того, мы можем строить доверительный интервал для среднего (строится на выборках больших 30). Доверительный интервал обычно строют на 95%. Если нам выпадает камень с ценой меньшей чем левый конец доверительного интервала среднего, то его 100 процентов нужно отбросить. Если правее правого конца, то стоит задуматься и посмотреть на эмпирическую функцию распределения. Кроме того, и эмпирическая функция распределения и доверительные интервалы стоит пересчитывать каждую итерацию. Помимо этого, если нам нужна плотность (извлечь из эмпирической функции распределения не представляется возможным), то можно воспользоваться ядерными оценками плотности. Кроме того, каждый игрок должен иметь совсем не математическое понятие как интуиция. Если выпадает намного дороже камень, чем были до этого, то скорее всего стоит остановиться. \n",
    "Итак, полный алгоритм выглядит следующим образом: \n",
    "1. На первых 30-ти камушках мы пытаемся вынуть хоть какую-то статистическую информацию о распределении цены, не забывая о здравом смысле\n",
    "2. Строим эмпирическую функцию распределения, ядерную оценку плотности, проводим необходимые тесты на стандартные распределения\n",
    "3. После 30 камней можем построить доверительный интервал среднего\n",
    "4. На каждом следующем камне проверяем положение цены относительно доверительного интервала (если левее интервала, то отказ, если нет, то переходим к эмпирической функции распределения). Проверяем вероятность выпадения большей цены, если она, допустим меньше 20%, то стоит остановиться (процент может быть совсем другой, тут каждый выбирает сам). Вместо эмпирической функции распределения, можно использовать оценку плотности \n",
    "5. После каждого камня пересчитываем ЭФР, интервал, ЯОП"
   ]
  },
  {
   "cell_type": "markdown",
   "id": "40421c8a",
   "metadata": {},
   "source": [
    "### Задача 5"
   ]
  },
  {
   "cell_type": "markdown",
   "id": "121fe675",
   "metadata": {},
   "source": [
    "Можно разбить всю задачу и рассмотреть промежуток в 100 лет. Мы знаем распределение возможного числа купленных мечей. Можно найти среднюю цену, по которой можно купить меч и продать его. Если цена потенциальной продажи выше среднего покупки, то меч нужно продать. Если цена покупки ниже, чем средняя продажи, то меч нужно купить. Это позволит получать proffit на бесконечной дистанции."
   ]
  }
 ],
 "metadata": {
  "kernelspec": {
   "display_name": "Python 3 (ipykernel)",
   "language": "python",
   "name": "python3"
  },
  "language_info": {
   "codemirror_mode": {
    "name": "ipython",
    "version": 3
   },
   "file_extension": ".py",
   "mimetype": "text/x-python",
   "name": "python",
   "nbconvert_exporter": "python",
   "pygments_lexer": "ipython3",
   "version": "3.9.7"
  }
 },
 "nbformat": 4,
 "nbformat_minor": 5
}
